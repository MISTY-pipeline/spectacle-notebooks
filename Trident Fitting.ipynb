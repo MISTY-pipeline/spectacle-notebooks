{
 "cells": [
  {
   "cell_type": "code",
   "execution_count": 1,
   "metadata": {},
   "outputs": [
    {
     "name": "stderr",
     "output_type": "stream",
     "text": [
      "INFO:root:Added misty to custom loaders.\n"
     ]
    },
    {
     "name": "stdout",
     "output_type": "stream",
     "text": [
      "1.12.1 1.3.2\n"
     ]
    }
   ],
   "source": [
    "# Spectacle\n",
    "import spectacle\n",
    "from spectacle.core.spectra import Spectrum1D\n",
    "from spectacle.modeling.models import Absorption1D\n",
    "from spectacle.core.lines import Line\n",
    "from spectacle.modeling.fitting import LevMarFitter, LevMarLSQFitter, DynamicLevMarFitter\n",
    "\n",
    "# Misty\n",
    "import os, sys\n",
    "# sys.path.insert(0, \"/Users/nearl/projects/enzo_specs/\")\n",
    "# import MISTY\n",
    "\n",
    "# yt/enzo\n",
    "import trident\n",
    "import yt\n",
    "\n",
    "# general\n",
    "import numpy as np\n",
    "import astropy as at\n",
    "import matplotlib.pyplot as plt\n",
    "\n",
    "%matplotlib notebook\n",
    "print(np.__version__, at.__version__)"
   ]
  },
  {
   "cell_type": "markdown",
   "metadata": {},
   "source": [
    "# Trident setup"
   ]
  },
  {
   "cell_type": "code",
   "execution_count": 6,
   "metadata": {},
   "outputs": [
    {
     "name": "stderr",
     "output_type": "stream",
     "text": [
      "yt : [INFO     ] 2017-06-29 17:22:50,713 Parameters: current_time              = 4.3430653996e+17\n",
      "yt : [INFO     ] 2017-06-29 17:22:50,713 Parameters: domain_dimensions         = [2 2 2]\n",
      "yt : [INFO     ] 2017-06-29 17:22:50,715 Parameters: domain_left_edge          = [ 0.  0.  0.]\n",
      "yt : [INFO     ] 2017-06-29 17:22:50,716 Parameters: domain_right_edge         = [  4.43982386e+26   4.43982386e+26   4.43982386e+26]\n",
      "yt : [INFO     ] 2017-06-29 17:22:50,718 Parameters: cosmological_simulation   = 1\n",
      "yt : [INFO     ] 2017-06-29 17:22:50,719 Parameters: current_redshift          = 4.4408920985e-16\n",
      "yt : [INFO     ] 2017-06-29 17:22:50,720 Parameters: omega_lambda              = 0.715\n",
      "yt : [INFO     ] 2017-06-29 17:22:50,722 Parameters: omega_matter              = 0.285\n",
      "yt : [INFO     ] 2017-06-29 17:22:50,723 Parameters: hubble_constant           = 0.695\n",
      "yt : [INFO     ] 2017-06-29 17:22:50,849 Allocating for 5.800e+01 particles (index particle type 'all')\n",
      "yt : [INFO     ] 2017-06-29 17:22:50,856 Identified 8.900e+01 octs\n"
     ]
    },
    {
     "name": "stdout",
     "output_type": "stream",
     "text": [
      "Si II 1260 Si II 1260\n"
     ]
    },
    {
     "ename": "FieldUnitsError",
     "evalue": "Cannot handle units 'b'cm**(-3)'' (type <class 'bytes'>).Please provide a string or Unit object.",
     "output_type": "error",
     "traceback": [
      "\u001b[0;31m---------------------------------------------------------------------------\u001b[0m",
      "\u001b[0;31mFieldUnitsError\u001b[0m                           Traceback (most recent call last)",
      "\u001b[0;32m<ipython-input-6-aead481a42df>\u001b[0m in \u001b[0;36m<module>\u001b[0;34m()\u001b[0m\n\u001b[1;32m     21\u001b[0m \u001b[0;31m# Parse spectrum information from ray\u001b[0m\u001b[0;34m\u001b[0m\u001b[0;34m\u001b[0m\u001b[0m\n\u001b[1;32m     22\u001b[0m \u001b[0mlambda_rest\u001b[0m \u001b[0;34m=\u001b[0m \u001b[0mline_out\u001b[0m\u001b[0;34m.\u001b[0m\u001b[0mwavelength\u001b[0m\u001b[0;34m\u001b[0m\u001b[0m\n\u001b[0;32m---> 23\u001b[0;31m \u001b[0mlambda_min\u001b[0m \u001b[0;34m=\u001b[0m \u001b[0mlambda_rest\u001b[0m \u001b[0;34m*\u001b[0m \u001b[0;34m(\u001b[0m\u001b[0;36m1\u001b[0m\u001b[0;34m+\u001b[0m\u001b[0mmin\u001b[0m\u001b[0;34m(\u001b[0m\u001b[0mar\u001b[0m\u001b[0;34m[\u001b[0m\u001b[0;34m'redshift_eff'\u001b[0m\u001b[0;34m]\u001b[0m\u001b[0;34m)\u001b[0m\u001b[0;34m)\u001b[0m \u001b[0;34m-\u001b[0m \u001b[0;36m0\u001b[0m\u001b[0;34m\u001b[0m\u001b[0m\n\u001b[0m\u001b[1;32m     24\u001b[0m \u001b[0;31m# lambda_max = lambda_rest * (1+max(ar['redshift_eff'])) + 0\u001b[0m\u001b[0;34m\u001b[0m\u001b[0;34m\u001b[0m\u001b[0m\n\u001b[1;32m     25\u001b[0m \u001b[0;31m# sg = trident.SpectrumGenerator(lambda_min=lambda_min.value, lambda_max=lambda_max.value, dlambda=0.0001)\u001b[0m\u001b[0;34m\u001b[0m\u001b[0;34m\u001b[0m\u001b[0m\n",
      "\u001b[0;32m/Users/nmearl/anaconda3/envs/spec_env/lib/python3.6/site-packages/yt/data_objects/data_containers.py\u001b[0m in \u001b[0;36m__getitem__\u001b[0;34m(self, key)\u001b[0m\n\u001b[1;32m    263\u001b[0m         \u001b[0mReturns\u001b[0m \u001b[0ma\u001b[0m \u001b[0msingle\u001b[0m \u001b[0mfield\u001b[0m\u001b[0;34m.\u001b[0m  \u001b[0mWill\u001b[0m \u001b[0madd\u001b[0m \u001b[0;32mif\u001b[0m \u001b[0mnecessary\u001b[0m\u001b[0;34m.\u001b[0m\u001b[0;34m\u001b[0m\u001b[0m\n\u001b[1;32m    264\u001b[0m         \"\"\"\n\u001b[0;32m--> 265\u001b[0;31m         \u001b[0mf\u001b[0m \u001b[0;34m=\u001b[0m \u001b[0mself\u001b[0m\u001b[0;34m.\u001b[0m\u001b[0m_determine_fields\u001b[0m\u001b[0;34m(\u001b[0m\u001b[0;34m[\u001b[0m\u001b[0mkey\u001b[0m\u001b[0;34m]\u001b[0m\u001b[0;34m)\u001b[0m\u001b[0;34m[\u001b[0m\u001b[0;36m0\u001b[0m\u001b[0;34m]\u001b[0m\u001b[0;34m\u001b[0m\u001b[0m\n\u001b[0m\u001b[1;32m    266\u001b[0m         \u001b[0;32mif\u001b[0m \u001b[0mf\u001b[0m \u001b[0;32mnot\u001b[0m \u001b[0;32min\u001b[0m \u001b[0mself\u001b[0m\u001b[0;34m.\u001b[0m\u001b[0mfield_data\u001b[0m \u001b[0;32mand\u001b[0m \u001b[0mkey\u001b[0m \u001b[0;32mnot\u001b[0m \u001b[0;32min\u001b[0m \u001b[0mself\u001b[0m\u001b[0;34m.\u001b[0m\u001b[0mfield_data\u001b[0m\u001b[0;34m:\u001b[0m\u001b[0;34m\u001b[0m\u001b[0m\n\u001b[1;32m    267\u001b[0m             \u001b[0;32mif\u001b[0m \u001b[0mf\u001b[0m \u001b[0;32min\u001b[0m \u001b[0mself\u001b[0m\u001b[0;34m.\u001b[0m\u001b[0m_container_fields\u001b[0m\u001b[0;34m:\u001b[0m\u001b[0;34m\u001b[0m\u001b[0m\n",
      "\u001b[0;32m/Users/nmearl/anaconda3/envs/spec_env/lib/python3.6/site-packages/yt/data_objects/data_containers.py\u001b[0m in \u001b[0;36m_determine_fields\u001b[0;34m(self, fields)\u001b[0m\n\u001b[1;32m    993\u001b[0m             \u001b[0;32melse\u001b[0m\u001b[0;34m:\u001b[0m\u001b[0;34m\u001b[0m\u001b[0m\n\u001b[1;32m    994\u001b[0m                 \u001b[0mfname\u001b[0m \u001b[0;34m=\u001b[0m \u001b[0mfield\u001b[0m\u001b[0;34m\u001b[0m\u001b[0m\n\u001b[0;32m--> 995\u001b[0;31m                 \u001b[0mfinfo\u001b[0m \u001b[0;34m=\u001b[0m \u001b[0mself\u001b[0m\u001b[0;34m.\u001b[0m\u001b[0mds\u001b[0m\u001b[0;34m.\u001b[0m\u001b[0m_get_field_info\u001b[0m\u001b[0;34m(\u001b[0m\u001b[0;34m\"unknown\"\u001b[0m\u001b[0;34m,\u001b[0m \u001b[0mfname\u001b[0m\u001b[0;34m)\u001b[0m\u001b[0;34m\u001b[0m\u001b[0m\n\u001b[0m\u001b[1;32m    996\u001b[0m                 \u001b[0;32mif\u001b[0m \u001b[0mfinfo\u001b[0m\u001b[0;34m.\u001b[0m\u001b[0mparticle_type\u001b[0m\u001b[0;34m:\u001b[0m\u001b[0;34m\u001b[0m\u001b[0m\n\u001b[1;32m    997\u001b[0m                     \u001b[0mftype\u001b[0m \u001b[0;34m=\u001b[0m \u001b[0mself\u001b[0m\u001b[0;34m.\u001b[0m\u001b[0m_current_particle_type\u001b[0m\u001b[0;34m\u001b[0m\u001b[0m\n",
      "\u001b[0;32m/Users/nmearl/anaconda3/envs/spec_env/lib/python3.6/site-packages/yt/data_objects/static_output.py\u001b[0m in \u001b[0;36m_get_field_info\u001b[0;34m(self, ftype, fname)\u001b[0m\n\u001b[1;32m    622\u001b[0m     \u001b[0m_last_finfo\u001b[0m \u001b[0;34m=\u001b[0m \u001b[0;32mNone\u001b[0m\u001b[0;34m\u001b[0m\u001b[0m\n\u001b[1;32m    623\u001b[0m     \u001b[0;32mdef\u001b[0m \u001b[0m_get_field_info\u001b[0m\u001b[0;34m(\u001b[0m\u001b[0mself\u001b[0m\u001b[0;34m,\u001b[0m \u001b[0mftype\u001b[0m\u001b[0;34m,\u001b[0m \u001b[0mfname\u001b[0m \u001b[0;34m=\u001b[0m \u001b[0;32mNone\u001b[0m\u001b[0;34m)\u001b[0m\u001b[0;34m:\u001b[0m\u001b[0;34m\u001b[0m\u001b[0m\n\u001b[0;32m--> 624\u001b[0;31m         \u001b[0mself\u001b[0m\u001b[0;34m.\u001b[0m\u001b[0mindex\u001b[0m\u001b[0;34m\u001b[0m\u001b[0m\n\u001b[0m\u001b[1;32m    625\u001b[0m         \u001b[0;32mif\u001b[0m \u001b[0mfname\u001b[0m \u001b[0;32mis\u001b[0m \u001b[0;32mNone\u001b[0m\u001b[0;34m:\u001b[0m\u001b[0;34m\u001b[0m\u001b[0m\n\u001b[1;32m    626\u001b[0m             \u001b[0;32mif\u001b[0m \u001b[0misinstance\u001b[0m\u001b[0;34m(\u001b[0m\u001b[0mftype\u001b[0m\u001b[0;34m,\u001b[0m \u001b[0mDerivedField\u001b[0m\u001b[0;34m)\u001b[0m\u001b[0;34m:\u001b[0m\u001b[0;34m\u001b[0m\u001b[0m\n",
      "\u001b[0;32m/Users/nmearl/anaconda3/envs/spec_env/lib/python3.6/site-packages/yt/data_objects/static_output.py\u001b[0m in \u001b[0;36mindex\u001b[0;34m(self)\u001b[0m\n\u001b[1;32m    422\u001b[0m             \u001b[0moldsettings\u001b[0m \u001b[0;34m=\u001b[0m \u001b[0mnp\u001b[0m\u001b[0;34m.\u001b[0m\u001b[0mgeterr\u001b[0m\u001b[0;34m(\u001b[0m\u001b[0;34m)\u001b[0m\u001b[0;34m\u001b[0m\u001b[0m\n\u001b[1;32m    423\u001b[0m             \u001b[0mnp\u001b[0m\u001b[0;34m.\u001b[0m\u001b[0mseterr\u001b[0m\u001b[0;34m(\u001b[0m\u001b[0mall\u001b[0m\u001b[0;34m=\u001b[0m\u001b[0;34m'ignore'\u001b[0m\u001b[0;34m)\u001b[0m\u001b[0;34m\u001b[0m\u001b[0m\n\u001b[0;32m--> 424\u001b[0;31m             \u001b[0mself\u001b[0m\u001b[0;34m.\u001b[0m\u001b[0mcreate_field_info\u001b[0m\u001b[0;34m(\u001b[0m\u001b[0;34m)\u001b[0m\u001b[0;34m\u001b[0m\u001b[0m\n\u001b[0m\u001b[1;32m    425\u001b[0m             \u001b[0mnp\u001b[0m\u001b[0;34m.\u001b[0m\u001b[0mseterr\u001b[0m\u001b[0;34m(\u001b[0m\u001b[0;34m**\u001b[0m\u001b[0moldsettings\u001b[0m\u001b[0;34m)\u001b[0m\u001b[0;34m\u001b[0m\u001b[0m\n\u001b[1;32m    426\u001b[0m         \u001b[0;32mreturn\u001b[0m \u001b[0mself\u001b[0m\u001b[0;34m.\u001b[0m\u001b[0m_instantiated_index\u001b[0m\u001b[0;34m\u001b[0m\u001b[0m\n",
      "\u001b[0;32m/Users/nmearl/anaconda3/envs/spec_env/lib/python3.6/site-packages/yt/frontends/ytdata/data_structures.py\u001b[0m in \u001b[0;36mcreate_field_info\u001b[0;34m(self)\u001b[0m\n\u001b[1;32m    103\u001b[0m         \u001b[0mself\u001b[0m\u001b[0;34m.\u001b[0m\u001b[0mfield_info\u001b[0m\u001b[0;34m.\u001b[0m\u001b[0msetup_fluid_fields\u001b[0m\u001b[0;34m(\u001b[0m\u001b[0;34m)\u001b[0m\u001b[0;34m\u001b[0m\u001b[0m\n\u001b[1;32m    104\u001b[0m         \u001b[0;32mfor\u001b[0m \u001b[0mptype\u001b[0m \u001b[0;32min\u001b[0m \u001b[0mself\u001b[0m\u001b[0;34m.\u001b[0m\u001b[0mparticle_types\u001b[0m\u001b[0;34m:\u001b[0m\u001b[0;34m\u001b[0m\u001b[0m\n\u001b[0;32m--> 105\u001b[0;31m             \u001b[0mself\u001b[0m\u001b[0;34m.\u001b[0m\u001b[0mfield_info\u001b[0m\u001b[0;34m.\u001b[0m\u001b[0msetup_particle_fields\u001b[0m\u001b[0;34m(\u001b[0m\u001b[0mptype\u001b[0m\u001b[0;34m)\u001b[0m\u001b[0;34m\u001b[0m\u001b[0m\n\u001b[0m\u001b[1;32m    106\u001b[0m \u001b[0;34m\u001b[0m\u001b[0m\n\u001b[1;32m    107\u001b[0m         \u001b[0mself\u001b[0m\u001b[0;34m.\u001b[0m\u001b[0m_setup_gas_alias\u001b[0m\u001b[0;34m(\u001b[0m\u001b[0;34m)\u001b[0m\u001b[0;34m\u001b[0m\u001b[0m\n",
      "\u001b[0;32m/Users/nmearl/anaconda3/envs/spec_env/lib/python3.6/site-packages/yt/fields/field_info_container.py\u001b[0m in \u001b[0;36msetup_particle_fields\u001b[0;34m(self, ptype, ftype, num_neighbors)\u001b[0m\n\u001b[1;32m    137\u001b[0m             self.add_output_field(field, \n\u001b[1;32m    138\u001b[0m                                   \u001b[0munits\u001b[0m \u001b[0;34m=\u001b[0m \u001b[0mself\u001b[0m\u001b[0;34m.\u001b[0m\u001b[0mds\u001b[0m\u001b[0;34m.\u001b[0m\u001b[0mfield_units\u001b[0m\u001b[0;34m.\u001b[0m\u001b[0mget\u001b[0m\u001b[0;34m(\u001b[0m\u001b[0mfield\u001b[0m\u001b[0;34m,\u001b[0m \u001b[0;34m\"\"\u001b[0m\u001b[0;34m)\u001b[0m\u001b[0;34m,\u001b[0m\u001b[0;34m\u001b[0m\u001b[0m\n\u001b[0;32m--> 139\u001b[0;31m                                   particle_type = True)\n\u001b[0m\u001b[1;32m    140\u001b[0m         self.setup_smoothed_fields(ptype, \n\u001b[1;32m    141\u001b[0m                                    \u001b[0mnum_neighbors\u001b[0m\u001b[0;34m=\u001b[0m\u001b[0mnum_neighbors\u001b[0m\u001b[0;34m,\u001b[0m\u001b[0;34m\u001b[0m\u001b[0m\n",
      "\u001b[0;32m/Users/nmearl/anaconda3/envs/spec_env/lib/python3.6/site-packages/yt/fields/field_info_container.py\u001b[0m in \u001b[0;36madd_output_field\u001b[0;34m(self, name, **kwargs)\u001b[0m\n\u001b[1;32m    299\u001b[0m     \u001b[0;32mdef\u001b[0m \u001b[0madd_output_field\u001b[0m\u001b[0;34m(\u001b[0m\u001b[0mself\u001b[0m\u001b[0;34m,\u001b[0m \u001b[0mname\u001b[0m\u001b[0;34m,\u001b[0m \u001b[0;34m**\u001b[0m\u001b[0mkwargs\u001b[0m\u001b[0;34m)\u001b[0m\u001b[0;34m:\u001b[0m\u001b[0;34m\u001b[0m\u001b[0m\n\u001b[1;32m    300\u001b[0m         \u001b[0mkwargs\u001b[0m\u001b[0;34m.\u001b[0m\u001b[0msetdefault\u001b[0m\u001b[0;34m(\u001b[0m\u001b[0;34m'ds'\u001b[0m\u001b[0;34m,\u001b[0m \u001b[0mself\u001b[0m\u001b[0;34m.\u001b[0m\u001b[0mds\u001b[0m\u001b[0;34m)\u001b[0m\u001b[0;34m\u001b[0m\u001b[0m\n\u001b[0;32m--> 301\u001b[0;31m         \u001b[0mself\u001b[0m\u001b[0;34m[\u001b[0m\u001b[0mname\u001b[0m\u001b[0;34m]\u001b[0m \u001b[0;34m=\u001b[0m \u001b[0mDerivedField\u001b[0m\u001b[0;34m(\u001b[0m\u001b[0mname\u001b[0m\u001b[0;34m,\u001b[0m \u001b[0mNullFunc\u001b[0m\u001b[0;34m,\u001b[0m \u001b[0;34m**\u001b[0m\u001b[0mkwargs\u001b[0m\u001b[0;34m)\u001b[0m\u001b[0;34m\u001b[0m\u001b[0m\n\u001b[0m\u001b[1;32m    302\u001b[0m \u001b[0;34m\u001b[0m\u001b[0m\n\u001b[1;32m    303\u001b[0m     \u001b[0;32mdef\u001b[0m \u001b[0malias\u001b[0m\u001b[0;34m(\u001b[0m\u001b[0mself\u001b[0m\u001b[0;34m,\u001b[0m \u001b[0malias_name\u001b[0m\u001b[0;34m,\u001b[0m \u001b[0moriginal_name\u001b[0m\u001b[0;34m,\u001b[0m \u001b[0munits\u001b[0m \u001b[0;34m=\u001b[0m \u001b[0;32mNone\u001b[0m\u001b[0;34m)\u001b[0m\u001b[0;34m:\u001b[0m\u001b[0;34m\u001b[0m\u001b[0m\n",
      "\u001b[0;32m/Users/nmearl/anaconda3/envs/spec_env/lib/python3.6/site-packages/yt/fields/derived_field.py\u001b[0m in \u001b[0;36m__init__\u001b[0;34m(self, name, function, units, take_log, validators, particle_type, vector_field, display_field, not_in_all, display_name, output_units, dimensions, ds)\u001b[0m\n\u001b[1;32m    122\u001b[0m             raise FieldUnitsError(\"Cannot handle units '%s' (type %s).\" \\\n\u001b[1;32m    123\u001b[0m                                   \u001b[0;34m\"Please provide a string or Unit \"\u001b[0m\u001b[0;31m \u001b[0m\u001b[0;31m\\\u001b[0m\u001b[0;34m\u001b[0m\u001b[0m\n\u001b[0;32m--> 124\u001b[0;31m                                   \"object.\" % (units, type(units)) )\n\u001b[0m\u001b[1;32m    125\u001b[0m         \u001b[0;32mif\u001b[0m \u001b[0moutput_units\u001b[0m \u001b[0;32mis\u001b[0m \u001b[0;32mNone\u001b[0m\u001b[0;34m:\u001b[0m\u001b[0;34m\u001b[0m\u001b[0m\n\u001b[1;32m    126\u001b[0m             \u001b[0moutput_units\u001b[0m \u001b[0;34m=\u001b[0m \u001b[0mself\u001b[0m\u001b[0;34m.\u001b[0m\u001b[0munits\u001b[0m\u001b[0;34m\u001b[0m\u001b[0m\n",
      "\u001b[0;31mFieldUnitsError\u001b[0m: Cannot handle units 'b'cm**(-3)'' (type <class 'bytes'>).Please provide a string or Unit object."
     ]
    }
   ],
   "source": [
    "# Load trident ray data using yt\n",
    "tri_ray = yt.load(\"/Users/nmearl/Downloads/RD0042_ray_z_imp177.9_ang1.30_tri.h5\")\n",
    "# tri_ray = yt.load(\"/Users/nearl/Downloads/RD0042_ray_z_imp020.0_ang0.00tri.h5\")\n",
    "# tri_ray = yt.load(\"/Users/nearl/Downloads/RD0042_ray_z_imp046.4_ang3.23_tri.h5\")\n",
    "# tri_ray = yt.load(\"/Users/nearl/Downloads/RD0042_ray_z_imp063.8_ang6.07_tri.h5\")\n",
    "# tri_ray = yt.load(\"/Users/nearl/Downloads/RD0042_ray_z_imp022.9_ang5.32_tri.h5\")\n",
    "\n",
    "# Parse the start/end of ray\n",
    "ray_start = tri_ray.light_ray_solution[0]['start']\n",
    "ray_end = tri_ray.light_ray_solution[0]['end']\n",
    "\n",
    "# Get line information for the line we want\n",
    "line_name = \"Si II 1260\"\n",
    "ldb = trident.LineDatabase('lines.txt')\n",
    "line_out = ldb.parse_subset(line_name)\n",
    "line_out = line_out[0]\n",
    "ar = tri_ray.all_data()\n",
    "\n",
    "print(line_name, line_out)\n",
    "\n",
    "# Parse spectrum information from ray\n",
    "lambda_rest = line_out.wavelength\n",
    "lambda_min = lambda_rest * (1+min(ar['redshift_eff'])) - 0\n",
    "# lambda_max = lambda_rest * (1+max(ar['redshift_eff'])) + 0\n",
    "# sg = trident.SpectrumGenerator(lambda_min=lambda_min.value, lambda_max=lambda_max.value, dlambda=0.0001)\n",
    "# sg.make_spectrum(tri_ray, lines=line_out.name)"
   ]
  },
  {
   "cell_type": "markdown",
   "metadata": {},
   "source": [
    "# Spectacle setup"
   ]
  },
  {
   "cell_type": "code",
   "execution_count": null,
   "metadata": {
    "collapsed": true
   },
   "outputs": [],
   "source": [
    "# Create Spectrum1D from trident information\n",
    "disp = np.array(list(sg.lambda_field))\n",
    "flux = np.array(list(sg.flux_field))\n",
    "spectrum = Spectrum1D(flux, dispersion=disp)"
   ]
  },
  {
   "cell_type": "code",
   "execution_count": null,
   "metadata": {},
   "outputs": [],
   "source": [
    "# Plot the trident spectrum\n",
    "f, ax1 = plt.subplots()\n",
    "\n",
    "ax1.plot(disp, flux)"
   ]
  },
  {
   "cell_type": "code",
   "execution_count": null,
   "metadata": {},
   "outputs": [],
   "source": [
    "# Create Line1D from trident line information\n",
    "sg_line = sg.line_list[0]\n",
    "\n",
    "# This process will find lines in the trident spectrum\n",
    "# and assign the values set in the `defaults` dict to\n",
    "# the new lines found.\n",
    "lines = spectrum.find_lines(threshold=0.02/max(1-spectrum.data),\n",
    "                            min_dist=10,\n",
    "                            smooth=True,\n",
    "                            interpolate=True,\n",
    "                            defaults=dict(\n",
    "                                lambda_0=sg_line['wavelength'].value,\n",
    "                                f_value=sg_line['f_value'],\n",
    "                                gamma=sg_line['gamma'],\n",
    "                                fixed={\n",
    "                                    'lambda_0': True,\n",
    "                                    'delta_v': True,\n",
    "                                    'delta_lambda': False}\n",
    "                           ))\n",
    "\n",
    "# Create absorption Spectrum1D from line information\n",
    "spec_mod = Absorption1D(lines=lines)\n",
    "\n",
    "# Create a Spectrum1D object from the Absorption1D model\n",
    "gen_spec = spec_mod(spectrum.dispersion)"
   ]
  },
  {
   "cell_type": "code",
   "execution_count": null,
   "metadata": {},
   "outputs": [],
   "source": [
    "# Plot the generated absorption spectrum\n",
    "f, ax = plt.subplots()\n",
    "\n",
    "ax.plot(spectrum.dispersion, spectrum.data, label=\"Original\")\n",
    "ax.plot(spectrum.dispersion, gen_spec.data, label=\"Generated\")\n",
    "# ax.set_xlim(1259.63, 1260.78)\n",
    "\n",
    "plt.legend(loc=0)"
   ]
  },
  {
   "cell_type": "code",
   "execution_count": null,
   "metadata": {},
   "outputs": [],
   "source": [
    "# Now fit the generated Spectrum1D object to the ray spectrum data\n",
    "\n",
    "print(spectrum.dispersion.dtype, spectrum.data.dtype)\n",
    "\n",
    "# Create a fitter\n",
    "fitter = DynamicLevMarFitter()\n",
    "\n",
    "fit_spec_mod = fitter(spec_mod, spectrum.dispersion, spectrum.data,\n",
    "                      maxiter=1000, initialize=False)\n",
    "\n",
    "# Get the results of the fit\n",
    "fit_spec = fit_spec_mod(spectrum.dispersion)"
   ]
  },
  {
   "cell_type": "code",
   "execution_count": null,
   "metadata": {},
   "outputs": [],
   "source": [
    "print(type(fit_spec_mod))\n",
    "\n",
    "# Plot the stacked results\n",
    "f, (ax1) = plt.subplots()\n",
    "\n",
    "ax1.step(spectrum.dispersion, spectrum.data, label=\"Data\")\n",
    "# ax1.step(gen_spec.dispersion, gen_spec.data, label=\"Initial model\")\n",
    "ax1.step(fit_spec.dispersion, fit_spec.data, label=\"Fitting result\")\n",
    "\n",
    "for sub_mod in fit_spec_mod[1:]:\n",
    "    fit_sub_spec = (sub_mod + fit_spec_mod[0])(spectrum.dispersion)\n",
    "    \n",
    "    ax1.plot(spectrum.dispersion, fit_sub_spec, linestyle='--', alpha=0.5)\n",
    "\n",
    "# ax1.set_xlim(1259.7, 1260.26)\n",
    "\n",
    "plt.legend(loc=0)"
   ]
  },
  {
   "cell_type": "code",
   "execution_count": null,
   "metadata": {
    "collapsed": true
   },
   "outputs": [],
   "source": []
  }
 ],
 "metadata": {
  "kernelspec": {
   "display_name": "Python 3",
   "language": "python",
   "name": "python3"
  },
  "language_info": {
   "codemirror_mode": {
    "name": "ipython",
    "version": 3
   },
   "file_extension": ".py",
   "mimetype": "text/x-python",
   "name": "python",
   "nbconvert_exporter": "python",
   "pygments_lexer": "ipython3",
   "version": "3.6.1"
  }
 },
 "nbformat": 4,
 "nbformat_minor": 2
}
